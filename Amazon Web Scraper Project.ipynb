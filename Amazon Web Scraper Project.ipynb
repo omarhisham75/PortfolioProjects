{
 "cells": [
  {
   "cell_type": "markdown",
   "id": "6a82cbae-a49e-4629-9f8d-86783793ec29",
   "metadata": {},
   "source": [
    "Import Libraries"
   ]
  },
  {
   "cell_type": "code",
   "execution_count": 57,
   "id": "6a6d8ea1-1269-42d3-a314-bf1a5cbb06ce",
   "metadata": {},
   "outputs": [],
   "source": [
    "import pandas as pd\n",
    "from bs4 import BeautifulSoup\n",
    "import requests\n",
    "import time\n",
    "import datetime\n",
    "import smtplib"
   ]
  },
  {
   "cell_type": "markdown",
   "id": "fd89a0ab-c5ce-42c1-a4d9-63ac2795b5c3",
   "metadata": {},
   "source": [
    "Connect to Website and Pull the Data"
   ]
  },
  {
   "cell_type": "code",
   "execution_count": 46,
   "id": "fa4620ca-cfe4-4f24-bf75-078b95434d4d",
   "metadata": {},
   "outputs": [
    {
     "name": "stdout",
     "output_type": "stream",
     "text": [
      "\n",
      "                  People Who Tolerate Me On A Daily Basis Sarcastic Funny T Shirt\n",
      "                 \n",
      "\n",
      "                  $14.99\n",
      "                 \n"
     ]
    }
   ],
   "source": [
    "URL = \"https://www.amazon.com/dp/B07S2Z9433/ref=sspa_dk_detail_2?psc=1&pd_rd_i=B07S2Z9433&pd_rd_w=aRFFC&content-id=amzn1.sym.8c2f9165-8e93-42a1-8313-73d3809141a2&pf_rd_p=8c2f9165-8e93-42a1-8313-73d3809141a2&pf_rd_r=JHW3DA35XYTX76RRRC7E&pd_rd_wg=wgYr3&pd_rd_r=1b6f83b0-b82b-418a-9cc6-5abf39593c3d&s=apparel&sp_csd=d2lkZ2V0TmFtZT1zcF9kZXRhaWw\"\n",
    "headers = {\"User-Agent\": \"Mozilla/5.0 (Windows NT 10.0; Win64; x64) AppleWebKit/537.36 (KHTML, like Gecko) Chrome/78.0.3904.108 Safari/537.36\", \"Accept-Encoding\":\"gzip, deflate\", \"Accept\":\"text/html,application/xhtml+xml,application/xml;q=0.9,*/*;q=0.8\", \"DNT\":\"1\",\"Connection\":\"close\", \"Upgrade-Insecure-Requests\":\"1\"}\n",
    "\n",
    "page = requests.get(URL, headers=headers)\n",
    "soup1 = BeautifulSoup(page.content, \"html\")\n",
    "soup2 = BeautifulSoup(soup1.prettify(), \"html\")\n",
    "title = soup2.find(id=\"productTitle\").get_text()\n",
    "price = soup2.find('span' , class_ =\"aok-offscreen\" ).get_text()\n",
    "print(title)\n",
    "print(price)"
   ]
  },
  {
   "cell_type": "markdown",
   "id": "6219b68a-211a-44a1-9ad8-7dc32f11ad7d",
   "metadata": {},
   "source": [
    "Clean up the Data"
   ]
  },
  {
   "cell_type": "code",
   "execution_count": 47,
   "id": "a5a2b6b7-acd1-4628-8010-98f01b3fadda",
   "metadata": {},
   "outputs": [
    {
     "name": "stdout",
     "output_type": "stream",
     "text": [
      "People Who Tolerate Me On A Daily Basis Sarcastic Funny T Shirt\n",
      "14.99\n"
     ]
    }
   ],
   "source": [
    "price = price.strip()[1:]\n",
    "title = title.strip()\n",
    "print(title)\n",
    "print(price)"
   ]
  },
  {
   "cell_type": "markdown",
   "id": "c779d7ac-5bc5-4c33-93d8-eff0e2712d2d",
   "metadata": {},
   "source": [
    "Create a Timestamp for your output to track when data was collected"
   ]
  },
  {
   "cell_type": "code",
   "execution_count": 49,
   "id": "18d59ad1-ec4e-4b39-a8ff-9156b80cfd4c",
   "metadata": {},
   "outputs": [
    {
     "name": "stdout",
     "output_type": "stream",
     "text": [
      "2024-06-25\n"
     ]
    }
   ],
   "source": [
    "import datetime\n",
    "\n",
    "today = datetime.date.today()\n",
    "\n",
    "print(today)"
   ]
  },
  {
   "cell_type": "code",
   "execution_count": 64,
   "id": "47b6e85c-c6c4-4205-975b-4d7190d0cc07",
   "metadata": {},
   "outputs": [],
   "source": [
    "import csv \n",
    "\n",
    "header = ['Title', 'Price', 'Date']\n",
    "data = [title, price, today]\n",
    "\n",
    "\n",
    "with open('AmazonWebScraperDataset.csv', 'w', newline='') as f:\n",
    "    writer = csv.writer(f)\n",
    "    writer.writerow(header)\n",
    "    writer.writerow(data)"
   ]
  },
  {
   "cell_type": "code",
   "execution_count": 72,
   "id": "643deb4e-e834-496c-83e9-e798794fcd1c",
   "metadata": {},
   "outputs": [
    {
     "name": "stdout",
     "output_type": "stream",
     "text": [
      "                                               Title  Price        Date\n",
      "0  People Who Tolerate Me On A Daily Basis Sarcas...  14.99  2024-06-25\n",
      "1  People Who Tolerate Me On A Daily Basis Sarcas...  14.99  2024-06-25\n",
      "2  People Who Tolerate Me On A Daily Basis Sarcas...  14.99  2024-06-25\n",
      "3  People Who Tolerate Me On A Daily Basis Sarcas...  14.99  2024-06-25\n"
     ]
    }
   ],
   "source": [
    "df = pd.read_csv(r\"C:\\Users\\HP G3\\Desktop\\AmazonWebScraperDataset.csv\")\n",
    "print(df)"
   ]
  },
  {
   "cell_type": "markdown",
   "id": "a2dcc72a-93e6-41f0-b2fd-8b0cba16dc90",
   "metadata": {},
   "source": [
    "Appending data to the csv"
   ]
  },
  {
   "cell_type": "code",
   "execution_count": 74,
   "id": "dbe9ac0f-ee25-44b2-9092-30bea24cef11",
   "metadata": {},
   "outputs": [],
   "source": [
    "with open('AmazonWebScraperDataset.csv', 'a+', newline='') as f:\n",
    "    writer = csv.writer(f)\n",
    "    writer.writerow(data)"
   ]
  },
  {
   "cell_type": "markdown",
   "id": "9599c3df-1cfb-44a6-a962-868dc0eb6402",
   "metadata": {},
   "source": [
    "Combine all of the above code into one function"
   ]
  },
  {
   "cell_type": "code",
   "execution_count": 68,
   "id": "8dd72206-6d0d-4300-bc0b-122ee43bc3cb",
   "metadata": {},
   "outputs": [],
   "source": [
    "def check_price():\n",
    "    URL = \"https://www.amazon.com/dp/B07S2Z9433/ref=sspa_dk_detail_2?psc=1&pd_rd_i=B07S2Z9433&pd_rd_w=aRFFC&content-id=amzn1.sym.8c2f9165-8e93-42a1-8313-73d3809141a2&pf_rd_p=8c2f9165-8e93-42a1-8313-73d3809141a2&pf_rd_r=JHW3DA35XYTX76RRRC7E&pd_rd_wg=wgYr3&pd_rd_r=1b6f83b0-b82b-418a-9cc6-5abf39593c3d&s=apparel&sp_csd=d2lkZ2V0TmFtZT1zcF9kZXRhaWw\"\n",
    "    headers = {\"User-Agent\": \"Mozilla/5.0 (Windows NT 10.0; Win64; x64) AppleWebKit/537.36 (KHTML, like Gecko) Chrome/78.0.3904.108 Safari/537.36\", \"Accept-Encoding\":\"gzip, deflate\", \"Accept\":\"text/html,application/xhtml+xml,application/xml;q=0.9,*/*;q=0.8\", \"DNT\":\"1\",\"Connection\":\"close\", \"Upgrade-Insecure-Requests\":\"1\"}\n",
    "    \n",
    "    page = requests.get(URL, headers=headers)\n",
    "    soup1 = BeautifulSoup(page.content, \"html\")\n",
    "    soup2 = BeautifulSoup(soup1.prettify(), \"html\")\n",
    "    title = soup2.find(id=\"productTitle\").get_text()\n",
    "    price = soup2.find('span' , class_ =\"aok-offscreen\" ).get_text()\n",
    "\n",
    "    price = price.strip()[1:]\n",
    "    title = title.strip()\n",
    "\n",
    "    import datetime\n",
    "\n",
    "    today = datetime.date.today()\n",
    "    \n",
    "    import csv \n",
    "\n",
    "    header = ['Title', 'Price', 'Date']\n",
    "    data = [title, price, today]\n",
    "\n",
    "    with open('AmazonWebScraperDataset.csv', 'a+', newline='') as f:\n",
    "        writer = csv.writer(f)\n",
    "        writer.writerow(data)"
   ]
  },
  {
   "cell_type": "markdown",
   "id": "dfc45655-da32-453d-9276-3e22495c8cb2",
   "metadata": {},
   "source": [
    "Runs check_price after a set time and inputs data into your CSV"
   ]
  },
  {
   "cell_type": "code",
   "execution_count": null,
   "id": "0e6f7998-2e06-42b1-9427-9e619abfa6f3",
   "metadata": {},
   "outputs": [],
   "source": [
    "while(True):\n",
    "    check_price()\n",
    "    time.sleep(86400) #You can check the price every day or every hour on Black Friday, for example."
   ]
  },
  {
   "cell_type": "code",
   "execution_count": 75,
   "id": "b1162bf4-0547-414b-ba9f-76e649670172",
   "metadata": {},
   "outputs": [
    {
     "name": "stdout",
     "output_type": "stream",
     "text": [
      "                                               Title  Price        Date\n",
      "0  People Who Tolerate Me On A Daily Basis Sarcas...  14.99  2024-06-25\n",
      "1  People Who Tolerate Me On A Daily Basis Sarcas...  14.99  2024-06-25\n",
      "2  People Who Tolerate Me On A Daily Basis Sarcas...  14.99  2024-06-25\n",
      "3  People Who Tolerate Me On A Daily Basis Sarcas...  14.99  2024-06-25\n",
      "4  People Who Tolerate Me On A Daily Basis Sarcas...  14.99  2024-06-25\n",
      "5  People Who Tolerate Me On A Daily Basis Sarcas...  14.99  2024-06-25\n"
     ]
    }
   ],
   "source": [
    "df = pd.read_csv(r\"C:\\Users\\HP G3\\Desktop\\AmazonWebScraperDataset.csv\")\n",
    "\n",
    "print(df)"
   ]
  },
  {
   "cell_type": "code",
   "execution_count": null,
   "id": "06f99b05-0a9a-47a6-89ed-4ec29df1f5de",
   "metadata": {},
   "outputs": [],
   "source": []
  }
 ],
 "metadata": {
  "kernelspec": {
   "display_name": "Python 3 (ipykernel)",
   "language": "python",
   "name": "python3"
  },
  "language_info": {
   "codemirror_mode": {
    "name": "ipython",
    "version": 3
   },
   "file_extension": ".py",
   "mimetype": "text/x-python",
   "name": "python",
   "nbconvert_exporter": "python",
   "pygments_lexer": "ipython3",
   "version": "3.11.7"
  }
 },
 "nbformat": 4,
 "nbformat_minor": 5
}
